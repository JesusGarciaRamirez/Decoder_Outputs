{
 "cells": [
  {
   "cell_type": "markdown",
   "metadata": {
    "tags": [
     "papermill-error-cell-tag"
    ]
   },
   "source": [
    "<span style=\"color:red; font-family:Helvetica Neue, Helvetica, Arial, sans-serif; font-size:2em;\">An Exception was encountered at '<a href=\"#papermill-error-cell\">In [1]</a>'.</span>"
   ]
  },
  {
   "cell_type": "markdown",
   "metadata": {
    "tags": [
     "papermill-error-cell-tag"
    ]
   },
   "source": [
    "<span id=\"papermill-error-cell\" style=\"color:red; font-family:Helvetica Neue, Helvetica, Arial, sans-serif; font-size:2em;\">Execution using papermill encountered an exception here and stopped:</span>"
   ]
  },
  {
   "cell_type": "code",
   "execution_count": 1,
   "metadata": {
    "execution": {
     "iopub.execute_input": "2021-01-06T16:29:39.398842Z",
     "iopub.status.busy": "2021-01-06T16:29:39.397068Z",
     "iopub.status.idle": "2021-01-06T16:29:42.886230Z",
     "shell.execute_reply": "2021-01-06T16:29:42.884237Z"
    },
    "papermill": {
     "duration": 3.590823,
     "end_time": "2021-01-06T16:29:42.887227",
     "exception": true,
     "start_time": "2021-01-06T16:29:39.296404",
     "status": "failed"
    },
    "tags": []
   },
   "outputs": [
    {
     "ename": "ModuleNotFoundError",
     "evalue": "No module named 'decoding'",
     "output_type": "error",
     "traceback": [
      "\u001b[1;31m---------------------------------------------------------------------------\u001b[0m",
      "\u001b[1;31mModuleNotFoundError\u001b[0m                       Traceback (most recent call last)",
      "\u001b[1;32m<ipython-input-1-2f8a9ba27f4e>\u001b[0m in \u001b[0;36m<module>\u001b[1;34m\u001b[0m\n\u001b[0;32m     19\u001b[0m \u001b[1;32mfrom\u001b[0m \u001b[0max\u001b[0m \u001b[1;32mimport\u001b[0m \u001b[0msave\u001b[0m\u001b[1;33m\u001b[0m\u001b[1;33m\u001b[0m\u001b[0m\n\u001b[0;32m     20\u001b[0m \u001b[1;32mfrom\u001b[0m \u001b[0max\u001b[0m\u001b[1;33m.\u001b[0m\u001b[0mstorage\u001b[0m\u001b[1;33m.\u001b[0m\u001b[0mrunner_registry\u001b[0m \u001b[1;32mimport\u001b[0m \u001b[0mregister_runner\u001b[0m\u001b[1;33m\u001b[0m\u001b[1;33m\u001b[0m\u001b[0m\n\u001b[1;32m---> 21\u001b[1;33m \u001b[1;32mfrom\u001b[0m \u001b[0mdecoding\u001b[0m\u001b[1;33m.\u001b[0m\u001b[0mdata\u001b[0m \u001b[1;32mimport\u001b[0m \u001b[0mget_alignOn\u001b[0m\u001b[1;33m,\u001b[0m \u001b[0mget_timesteps\u001b[0m\u001b[1;33m\u001b[0m\u001b[1;33m\u001b[0m\u001b[0m\n\u001b[0m\u001b[0;32m     22\u001b[0m \u001b[1;32mfrom\u001b[0m \u001b[0mdecoding\u001b[0m\u001b[1;33m.\u001b[0m\u001b[0mparameters\u001b[0m \u001b[1;32mimport\u001b[0m \u001b[0mPreprocessing_DefaultParameters\u001b[0m\u001b[1;33m\u001b[0m\u001b[1;33m\u001b[0m\u001b[0m\n\u001b[0;32m     23\u001b[0m \u001b[1;32mfrom\u001b[0m \u001b[0mmodeling\u001b[0m\u001b[1;33m.\u001b[0m\u001b[0mdefaults\u001b[0m \u001b[1;32mimport\u001b[0m \u001b[0mCLASSIFIERS\u001b[0m\u001b[1;33m,\u001b[0m \u001b[0mFEATURE_EXTRACTORS\u001b[0m\u001b[1;33m,\u001b[0m \u001b[0mPREPROCESSORS\u001b[0m\u001b[1;33m\u001b[0m\u001b[1;33m\u001b[0m\u001b[0m\n",
      "\u001b[1;31mModuleNotFoundError\u001b[0m: No module named 'decoding'"
     ]
    }
   ],
   "source": [
    "import os\n",
    "import sys\n",
    "\n",
    "import hydra\n",
    "import numpy as np\n",
    "import pandas as pd\n",
    "from ax import (Arm, ChoiceParameter, ComparisonOp, Data, FixedParameter,\n",
    "                Metric, Models, Objective, OptimizationConfig,\n",
    "                OutcomeConstraint, Parameter, ParameterType, RangeParameter,\n",
    "                Runner, SearchSpace, SimpleExperiment)\n",
    "\n",
    "sys.path.append(r\"C:\\Users\\jesga\\OneDrive\\Desktop\\NeuroscienceLeuven\\Code\\Decodingv7\")\n",
    "sys.path.append(r\"C:\\Users\\jesga\\OneDrive\\Desktop\\NeuroscienceLeuven\\Code\\tnsbmi\")\n",
    "sys.path.append(r\"C:\\Users\\jesga\\OneDrive\\Desktop\\NeuroscienceLeuven\\Code\\tnspython\")\n",
    "import json\n",
    "import logging\n",
    "import warnings\n",
    "\n",
    "from ax import save\n",
    "from ax.storage.runner_registry import register_runner\n",
    "from decoding.data import get_alignOn, get_timesteps\n",
    "from decoding.parameters import Preprocessing_DefaultParameters\n",
    "from modeling.defaults import CLASSIFIERS, FEATURE_EXTRACTORS, PREPROCESSORS\n",
    "from modeling.pipeline_builder import PipelineBuilder\n",
    "from modeling.pipelines import DecoderPipeline\n",
    "from omegaconf import DictConfig, OmegaConf\n",
    "from preprocessing.ratesTransformer import RatesTransformer\n",
    "from preprocessing.reachTuningTransformer import ReachTuningTransformer\n",
    "from sklearn.model_selection import train_test_split\n",
    "from tnsbmi import dataconversion\n",
    "from tnsbmi.binning import Bin\n",
    "from ax import load\n",
    "import pickle\n",
    "from optimization.utils import SearchSpaceGen\n",
    "from ax.service.ax_client import AxClient\n",
    "from ax.utils.measurement.synthetic_functions import hartmann6\n",
    "from ax.utils.notebook.plotting import render, init_notebook_plotting\n",
    "from ax.plot.contour import interact_contour, plot_contour\n",
    "from ax.plot.diagnostic import interact_cross_validation\n",
    "from ax.plot.scatter import(\n",
    "    interact_fitted,\n",
    "    plot_objective_vs_constraints,\n",
    "    tile_fitted,\n",
    "    plot_fitted\n",
    ")\n",
    "from ax.plot.marginal_effects import plot_marginal_effects\n",
    "from ax.plot.slice import plot_slice, interact_slice\n",
    "from ax.modelbridge.cross_validation import cross_validate\n",
    "init_notebook_plotting()"
   ]
  },
  {
   "cell_type": "markdown",
   "metadata": {
    "papermill": {
     "duration": null,
     "end_time": null,
     "exception": null,
     "start_time": null,
     "status": "pending"
    },
    "tags": []
   },
   "source": [
    "# Parameters"
   ]
  },
  {
   "cell_type": "code",
   "execution_count": null,
   "metadata": {
    "papermill": {
     "duration": null,
     "end_time": null,
     "exception": null,
     "start_time": null,
     "status": "pending"
    },
    "tags": [
     "parameters"
    ]
   },
   "outputs": [],
   "source": [
    "root_dir = r\"C:\\Users\\jesga\\OneDrive\\Desktop\\NeuroscienceLeuven\\Code\\outputs\\different_positions\\vgrasp_Sky_20200819_1137_B_trials\\SVM_ICA\\Basic_SVM_f1_weighted\\200\\2020-12-15_18-14-39\""
   ]
  },
  {
   "cell_type": "code",
   "execution_count": null,
   "metadata": {
    "papermill": {
     "duration": null,
     "end_time": null,
     "exception": null,
     "start_time": null,
     "status": "pending"
    },
    "tags": [
     "injected-parameters"
    ]
   },
   "outputs": [],
   "source": [
    "# Parameters\n",
    "root_dir = \"outputs/different_objects/vgrasp_Sky_20200928_1312_B_trials/Basic_SVM/Anova_Times_IForest_neg_log_loss/Default\\\\2021-01-06_16-42-39\"\n"
   ]
  },
  {
   "cell_type": "markdown",
   "metadata": {
    "papermill": {
     "duration": null,
     "end_time": null,
     "exception": null,
     "start_time": null,
     "status": "pending"
    },
    "tags": []
   },
   "source": [
    "# Config Loading"
   ]
  },
  {
   "cell_type": "code",
   "execution_count": null,
   "metadata": {
    "papermill": {
     "duration": null,
     "end_time": null,
     "exception": null,
     "start_time": null,
     "status": "pending"
    },
    "tags": []
   },
   "outputs": [],
   "source": [
    "config_path = os.path.join(root_dir,\".hydra\",\"config.yaml\")\n",
    "cfg = OmegaConf.load(config_path)"
   ]
  },
  {
   "cell_type": "code",
   "execution_count": null,
   "metadata": {
    "papermill": {
     "duration": null,
     "end_time": null,
     "exception": null,
     "start_time": null,
     "status": "pending"
    },
    "tags": []
   },
   "outputs": [],
   "source": [
    "print(f\"Config:\\n{OmegaConf.to_yaml(cfg)}\")"
   ]
  },
  {
   "cell_type": "markdown",
   "metadata": {
    "papermill": {
     "duration": null,
     "end_time": null,
     "exception": null,
     "start_time": null,
     "status": "pending"
    },
    "tags": []
   },
   "source": [
    "# Experiment Results"
   ]
  },
  {
   "cell_type": "code",
   "execution_count": null,
   "metadata": {
    "papermill": {
     "duration": null,
     "end_time": null,
     "exception": null,
     "start_time": null,
     "status": "pending"
    },
    "tags": []
   },
   "outputs": [],
   "source": [
    "restore_path = os.path.join(root_dir,\"ax_client_snapshot.json\")\n",
    "ax_client = AxClient.load_from_json_file(restore_path) "
   ]
  },
  {
   "cell_type": "code",
   "execution_count": null,
   "metadata": {
    "papermill": {
     "duration": null,
     "end_time": null,
     "exception": null,
     "start_time": null,
     "status": "pending"
    },
    "tags": []
   },
   "outputs": [],
   "source": [
    "trials_df = ax_client.get_trials_data_frame() "
   ]
  },
  {
   "cell_type": "code",
   "execution_count": null,
   "metadata": {
    "papermill": {
     "duration": null,
     "end_time": null,
     "exception": null,
     "start_time": null,
     "status": "pending"
    },
    "tags": []
   },
   "outputs": [],
   "source": [
    "# Sort trials from best performing (Test) to worse\n",
    "trials_df = trials_df.sort_values(by=[cfg.obj_name], ascending = False)\n",
    "# Show 5 best results\n",
    "trials_df.head()"
   ]
  },
  {
   "cell_type": "code",
   "execution_count": null,
   "metadata": {
    "papermill": {
     "duration": null,
     "end_time": null,
     "exception": null,
     "start_time": null,
     "status": "pending"
    },
    "tags": []
   },
   "outputs": [],
   "source": [
    "render(ax_client.get_optimization_trace())  "
   ]
  },
  {
   "cell_type": "code",
   "execution_count": null,
   "metadata": {
    "papermill": {
     "duration": null,
     "end_time": null,
     "exception": null,
     "start_time": null,
     "status": "pending"
    },
    "tags": []
   },
   "outputs": [],
   "source": [
    "render(ax_client.get_feature_importances())"
   ]
  },
  {
   "cell_type": "markdown",
   "metadata": {
    "papermill": {
     "duration": null,
     "end_time": null,
     "exception": null,
     "start_time": null,
     "status": "pending"
    },
    "tags": []
   },
   "source": [
    "# Model Results"
   ]
  },
  {
   "cell_type": "code",
   "execution_count": null,
   "metadata": {
    "papermill": {
     "duration": null,
     "end_time": null,
     "exception": null,
     "start_time": null,
     "status": "pending"
    },
    "tags": []
   },
   "outputs": [],
   "source": [
    "model = ax_client.generation_strategy.model"
   ]
  },
  {
   "cell_type": "markdown",
   "metadata": {
    "papermill": {
     "duration": null,
     "end_time": null,
     "exception": null,
     "start_time": null,
     "status": "pending"
    },
    "tags": []
   },
   "source": [
    "# Contour Plots"
   ]
  },
  {
   "cell_type": "code",
   "execution_count": null,
   "metadata": {
    "papermill": {
     "duration": null,
     "end_time": null,
     "exception": null,
     "start_time": null,
     "status": "pending"
    },
    "tags": []
   },
   "outputs": [],
   "source": [
    "render(interact_contour(model=model, metric_name= cfg.obj_name))"
   ]
  },
  {
   "cell_type": "markdown",
   "metadata": {
    "papermill": {
     "duration": null,
     "end_time": null,
     "exception": null,
     "start_time": null,
     "status": "pending"
    },
    "tags": []
   },
   "source": [
    "# Slice Plots"
   ]
  },
  {
   "cell_type": "code",
   "execution_count": null,
   "metadata": {
    "papermill": {
     "duration": null,
     "end_time": null,
     "exception": null,
     "start_time": null,
     "status": "pending"
    },
    "tags": []
   },
   "outputs": [],
   "source": [
    "plot_params = [param for param, param_dict in cfg.optimization.space.items() if (param_dict.type==\"range\")]\n",
    "for param in plot_params:\n",
    "    render(interact_slice(model, param_name = param))"
   ]
  },
  {
   "cell_type": "markdown",
   "metadata": {
    "papermill": {
     "duration": null,
     "end_time": null,
     "exception": null,
     "start_time": null,
     "status": "pending"
    },
    "tags": []
   },
   "source": [
    "# Cross Validation Plots"
   ]
  },
  {
   "cell_type": "code",
   "execution_count": null,
   "metadata": {
    "papermill": {
     "duration": null,
     "end_time": null,
     "exception": null,
     "start_time": null,
     "status": "pending"
    },
    "tags": []
   },
   "outputs": [],
   "source": [
    "cv_results = cross_validate(model)\n",
    "render(interact_cross_validation(cv_results))"
   ]
  },
  {
   "cell_type": "markdown",
   "metadata": {
    "papermill": {
     "duration": null,
     "end_time": null,
     "exception": null,
     "start_time": null,
     "status": "pending"
    },
    "tags": []
   },
   "source": [
    "# Interaction Plot"
   ]
  },
  {
   "cell_type": "code",
   "execution_count": null,
   "metadata": {
    "papermill": {
     "duration": null,
     "end_time": null,
     "exception": null,
     "start_time": null,
     "status": "pending"
    },
    "tags": [
     "parameters"
    ]
   },
   "outputs": [],
   "source": [
    "render(interact_fitted(model, rel=False))"
   ]
  },
  {
   "cell_type": "markdown",
   "metadata": {
    "papermill": {
     "duration": null,
     "end_time": null,
     "exception": null,
     "start_time": null,
     "status": "pending"
    },
    "tags": []
   },
   "source": [
    "# Trade-Off Plots"
   ]
  },
  {
   "cell_type": "code",
   "execution_count": null,
   "metadata": {
    "papermill": {
     "duration": null,
     "end_time": null,
     "exception": null,
     "start_time": null,
     "status": "pending"
    },
    "tags": []
   },
   "outputs": [],
   "source": [
    "# obj_metric = \n",
    "# render(plot_objective_vs_constraints(model, obj_metric , rel=False))"
   ]
  }
 ],
 "metadata": {
  "kernelspec": {
   "display_name": "Python 3",
   "language": "python",
   "name": "python3"
  },
  "language_info": {
   "codemirror_mode": {
    "name": "ipython",
    "version": 3
   },
   "file_extension": ".py",
   "mimetype": "text/x-python",
   "name": "python",
   "nbconvert_exporter": "python",
   "pygments_lexer": "ipython3",
   "version": "3.8.5"
  },
  "papermill": {
   "default_parameters": {},
   "duration": 16.068516,
   "end_time": "2021-01-06T16:29:44.098160",
   "environment_variables": {},
   "exception": true,
   "input_path": "C:\\Users\\jesga\\OneDrive\\Desktop\\NeuroscienceLeuven\\Code\\Decodingv7\\tests\\OptReport.ipynb",
   "output_path": "outputs/different_objects/vgrasp_Sky_20200928_1312_B_trials/Basic_SVM/Anova_Times_IForest_neg_log_loss/Default\\2021-01-06_16-42-39\\OptReport.ipynb",
   "parameters": {
    "root_dir": "outputs/different_objects/vgrasp_Sky_20200928_1312_B_trials/Basic_SVM/Anova_Times_IForest_neg_log_loss/Default\\2021-01-06_16-42-39"
   },
   "start_time": "2021-01-06T16:29:28.029644",
   "version": "2.2.2"
  }
 },
 "nbformat": 4,
 "nbformat_minor": 4
}